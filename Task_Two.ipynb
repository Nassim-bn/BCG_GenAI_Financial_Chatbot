{
 "cells": [
  {
   "cell_type": "markdown",
   "id": "d79d3061-2460-410f-bbe4-c3bb533bf529",
   "metadata": {},
   "source": [
    "## Task 2: Developing an AI-powered financial chatbot"
   ]
  },
  {
   "cell_type": "markdown",
   "id": "29d62f46-9147-4b6f-8d8d-744ee19c786a",
   "metadata": {},
   "source": [
    "Building a fully functional AI chatbot for financial analysis is a complex process involving advanced programming and deep learning techniques. However, to fit our learning objectives and time constraints, we've tailored a simplified task. This streamlined version will introduce you to the basics of chatbot development, focusing on creating a prototype that responds to predefined financial queries. It's a first step into the world of AI chatbots, offering a glimpse into their potential without the need for extensive development time or advanced technical skills. Let's begin this journey, keeping an eye on the bigger picture while we tackle this accessible task."
   ]
  },
  {
   "cell_type": "markdown",
   "id": "3f46b7f8-657c-4859-9ab3-2e4fd0ad0546",
   "metadata": {},
   "source": [
    "### 1. Preparation "
   ]
  },
  {
   "cell_type": "code",
   "execution_count": 2,
   "id": "74d822b9-babb-4bfd-bdbd-77ee67143647",
   "metadata": {},
   "outputs": [],
   "source": [
    "import pandas as pd"
   ]
  },
  {
   "cell_type": "markdown",
   "id": "ea0dfac6-19a7-4f6c-9d6b-287cd8c22d40",
   "metadata": {},
   "source": [
    "#### Review the analyzed data and save it"
   ]
  },
  {
   "cell_type": "code",
   "execution_count": 10,
   "id": "3b0ea915-215f-400b-a165-809d9b16a3bd",
   "metadata": {},
   "outputs": [
    {
     "data": {
      "text/html": [
       "<div>\n",
       "<style scoped>\n",
       "    .dataframe tbody tr th:only-of-type {\n",
       "        vertical-align: middle;\n",
       "    }\n",
       "\n",
       "    .dataframe tbody tr th {\n",
       "        vertical-align: top;\n",
       "    }\n",
       "\n",
       "    .dataframe thead th {\n",
       "        text-align: right;\n",
       "    }\n",
       "</style>\n",
       "<table border=\"1\" class=\"dataframe\">\n",
       "  <thead>\n",
       "    <tr style=\"text-align: right;\">\n",
       "      <th></th>\n",
       "      <th>Company</th>\n",
       "      <th>Fiscal Year</th>\n",
       "      <th>Total Revenue ($M)</th>\n",
       "      <th>Net Income ($M)</th>\n",
       "      <th>Total Assets ($M)</th>\n",
       "      <th>Total Liabilities ($M)</th>\n",
       "      <th>Cash Flow from Operating Activities ($M)</th>\n",
       "      <th>Revenue Growth (%)</th>\n",
       "      <th>Net Income Growth (%)</th>\n",
       "      <th>Assets Growth (%)</th>\n",
       "      <th>Liabilities Growth (%)</th>\n",
       "      <th>Cash Flow Growth (%)</th>\n",
       "    </tr>\n",
       "  </thead>\n",
       "  <tbody>\n",
       "    <tr>\n",
       "      <th>0</th>\n",
       "      <td>Apple</td>\n",
       "      <td>2022</td>\n",
       "      <td>394328.0</td>\n",
       "      <td>99803.0</td>\n",
       "      <td>352755.0</td>\n",
       "      <td>302083.0</td>\n",
       "      <td>122151.0</td>\n",
       "      <td>0.000000</td>\n",
       "      <td>0.000000</td>\n",
       "      <td>0.000000</td>\n",
       "      <td>0.000000</td>\n",
       "      <td>0.000000</td>\n",
       "    </tr>\n",
       "    <tr>\n",
       "      <th>1</th>\n",
       "      <td>Apple</td>\n",
       "      <td>2023</td>\n",
       "      <td>383285.0</td>\n",
       "      <td>96995.0</td>\n",
       "      <td>352583.0</td>\n",
       "      <td>290437.0</td>\n",
       "      <td>110543.0</td>\n",
       "      <td>-2.800461</td>\n",
       "      <td>-2.813543</td>\n",
       "      <td>-0.048759</td>\n",
       "      <td>-3.855232</td>\n",
       "      <td>-9.502992</td>\n",
       "    </tr>\n",
       "    <tr>\n",
       "      <th>2</th>\n",
       "      <td>Apple</td>\n",
       "      <td>2024</td>\n",
       "      <td>391035.0</td>\n",
       "      <td>93736.0</td>\n",
       "      <td>364980.0</td>\n",
       "      <td>308030.0</td>\n",
       "      <td>118254.0</td>\n",
       "      <td>2.021994</td>\n",
       "      <td>-3.359967</td>\n",
       "      <td>3.516052</td>\n",
       "      <td>6.057424</td>\n",
       "      <td>6.975566</td>\n",
       "    </tr>\n",
       "    <tr>\n",
       "      <th>3</th>\n",
       "      <td>Microsoft</td>\n",
       "      <td>2022</td>\n",
       "      <td>198270.0</td>\n",
       "      <td>72738.0</td>\n",
       "      <td>364840.0</td>\n",
       "      <td>198298.0</td>\n",
       "      <td>89035.0</td>\n",
       "      <td>0.000000</td>\n",
       "      <td>0.000000</td>\n",
       "      <td>0.000000</td>\n",
       "      <td>0.000000</td>\n",
       "      <td>0.000000</td>\n",
       "    </tr>\n",
       "    <tr>\n",
       "      <th>4</th>\n",
       "      <td>Microsoft</td>\n",
       "      <td>2023</td>\n",
       "      <td>211915.0</td>\n",
       "      <td>72361.0</td>\n",
       "      <td>411976.0</td>\n",
       "      <td>205753.0</td>\n",
       "      <td>87582.0</td>\n",
       "      <td>6.882030</td>\n",
       "      <td>-0.518299</td>\n",
       "      <td>12.919636</td>\n",
       "      <td>3.759493</td>\n",
       "      <td>-1.631942</td>\n",
       "    </tr>\n",
       "    <tr>\n",
       "      <th>5</th>\n",
       "      <td>Microsoft</td>\n",
       "      <td>2024</td>\n",
       "      <td>245122.0</td>\n",
       "      <td>88136.0</td>\n",
       "      <td>512163.0</td>\n",
       "      <td>243686.0</td>\n",
       "      <td>118548.0</td>\n",
       "      <td>15.669962</td>\n",
       "      <td>21.800417</td>\n",
       "      <td>24.318650</td>\n",
       "      <td>18.436183</td>\n",
       "      <td>35.356580</td>\n",
       "    </tr>\n",
       "    <tr>\n",
       "      <th>6</th>\n",
       "      <td>Tesla</td>\n",
       "      <td>2022</td>\n",
       "      <td>81462.0</td>\n",
       "      <td>12587.0</td>\n",
       "      <td>82338.0</td>\n",
       "      <td>36440.0</td>\n",
       "      <td>14724.0</td>\n",
       "      <td>0.000000</td>\n",
       "      <td>0.000000</td>\n",
       "      <td>0.000000</td>\n",
       "      <td>0.000000</td>\n",
       "      <td>0.000000</td>\n",
       "    </tr>\n",
       "    <tr>\n",
       "      <th>7</th>\n",
       "      <td>Tesla</td>\n",
       "      <td>2023</td>\n",
       "      <td>96773.0</td>\n",
       "      <td>14974.0</td>\n",
       "      <td>106618.0</td>\n",
       "      <td>43009.0</td>\n",
       "      <td>13256.0</td>\n",
       "      <td>18.795267</td>\n",
       "      <td>18.964010</td>\n",
       "      <td>29.488207</td>\n",
       "      <td>18.026894</td>\n",
       "      <td>-9.970117</td>\n",
       "    </tr>\n",
       "    <tr>\n",
       "      <th>8</th>\n",
       "      <td>Tesla</td>\n",
       "      <td>2024</td>\n",
       "      <td>97690.0</td>\n",
       "      <td>7153.0</td>\n",
       "      <td>122070.0</td>\n",
       "      <td>48390.0</td>\n",
       "      <td>14923.0</td>\n",
       "      <td>0.947578</td>\n",
       "      <td>-52.230533</td>\n",
       "      <td>14.492862</td>\n",
       "      <td>12.511335</td>\n",
       "      <td>12.575438</td>\n",
       "    </tr>\n",
       "  </tbody>\n",
       "</table>\n",
       "</div>"
      ],
      "text/plain": [
       "     Company  Fiscal Year  Total Revenue ($M)  Net Income ($M)  \\\n",
       "0      Apple         2022            394328.0          99803.0   \n",
       "1      Apple         2023            383285.0          96995.0   \n",
       "2      Apple         2024            391035.0          93736.0   \n",
       "3  Microsoft         2022            198270.0          72738.0   \n",
       "4  Microsoft         2023            211915.0          72361.0   \n",
       "5  Microsoft         2024            245122.0          88136.0   \n",
       "6      Tesla         2022             81462.0          12587.0   \n",
       "7      Tesla         2023             96773.0          14974.0   \n",
       "8      Tesla         2024             97690.0           7153.0   \n",
       "\n",
       "   Total Assets ($M)  Total Liabilities ($M)  \\\n",
       "0           352755.0                302083.0   \n",
       "1           352583.0                290437.0   \n",
       "2           364980.0                308030.0   \n",
       "3           364840.0                198298.0   \n",
       "4           411976.0                205753.0   \n",
       "5           512163.0                243686.0   \n",
       "6            82338.0                 36440.0   \n",
       "7           106618.0                 43009.0   \n",
       "8           122070.0                 48390.0   \n",
       "\n",
       "   Cash Flow from Operating Activities ($M)  Revenue Growth (%)  \\\n",
       "0                                  122151.0            0.000000   \n",
       "1                                  110543.0           -2.800461   \n",
       "2                                  118254.0            2.021994   \n",
       "3                                   89035.0            0.000000   \n",
       "4                                   87582.0            6.882030   \n",
       "5                                  118548.0           15.669962   \n",
       "6                                   14724.0            0.000000   \n",
       "7                                   13256.0           18.795267   \n",
       "8                                   14923.0            0.947578   \n",
       "\n",
       "   Net Income Growth (%)  Assets Growth (%)  Liabilities Growth (%)  \\\n",
       "0               0.000000           0.000000                0.000000   \n",
       "1              -2.813543          -0.048759               -3.855232   \n",
       "2              -3.359967           3.516052                6.057424   \n",
       "3               0.000000           0.000000                0.000000   \n",
       "4              -0.518299          12.919636                3.759493   \n",
       "5              21.800417          24.318650               18.436183   \n",
       "6               0.000000           0.000000                0.000000   \n",
       "7              18.964010          29.488207               18.026894   \n",
       "8             -52.230533          14.492862               12.511335   \n",
       "\n",
       "   Cash Flow Growth (%)  \n",
       "0              0.000000  \n",
       "1             -9.502992  \n",
       "2              6.975566  \n",
       "3              0.000000  \n",
       "4             -1.631942  \n",
       "5             35.356580  \n",
       "6              0.000000  \n",
       "7             -9.970117  \n",
       "8             12.575438  "
      ]
     },
     "execution_count": 10,
     "metadata": {},
     "output_type": "execute_result"
    }
   ],
   "source": [
    "# Load dataset\n",
    "df = pd.read_csv(\"10K_Financial_Data.csv\", delimiter=\";\")\n",
    "\n",
    "# Convert financial columns to numeric by removing commas \n",
    "cols_to_convert = [\"Total Revenue ($M)\", \"Net Income ($M)\", \"Total Assets ($M)\", \"Total Liabilities ($M)\", \"Cash Flow from Operating Activities ($M)\"]\n",
    "df[cols_to_convert] = df[cols_to_convert].replace(\",\", \"\", regex=True).astype(float)\n",
    "\n",
    "# Sort by Company and Fiscal Year \n",
    "df = df.sort_values(by=[\"Company\", \"Fiscal Year\"])\n",
    "\n",
    "# Calculate percentage change for each metric\n",
    "df[\"Revenue Growth (%)\"] = df.groupby(\"Company\")[\"Total Revenue ($M)\"].pct_change() * 100\n",
    "df[\"Net Income Growth (%)\"] = df.groupby(\"Company\")[\"Net Income ($M)\"].pct_change() * 100\n",
    "df[\"Assets Growth (%)\"] = df.groupby(\"Company\")[\"Total Assets ($M)\"].pct_change() * 100\n",
    "df[\"Liabilities Growth (%)\"] = df.groupby(\"Company\")[\"Total Liabilities ($M)\"].pct_change() * 100\n",
    "df[\"Cash Flow Growth (%)\"] = df.groupby(\"Company\")[\"Cash Flow from Operating Activities ($M)\"].pct_change() * 100\n",
    "\n",
    "# Handle Missing Values\n",
    "df.fillna(0, inplace=True)\n",
    "\n",
    "# # Reset the index to get sequential indices\n",
    "df.reset_index(drop=True, inplace=True)\n",
    "\n",
    "# Save the dataset\n",
    "df.to_csv('10K_Financial_Data_Enhanced.csv', index=False)\n",
    "\n",
    "df"
   ]
  },
  {
   "cell_type": "markdown",
   "id": "23d5aae5-830f-4557-a886-dde615be3dad",
   "metadata": {},
   "source": [
    "### 2. Chatbot design and data preparation"
   ]
  },
  {
   "cell_type": "markdown",
   "id": "a73f57de-66bd-4943-857a-5dc798ef6e66",
   "metadata": {},
   "source": [
    "#### **Define predefined queries:**\n",
    "Select common financial queries :\n",
    "1. \"What is the total revenue for [Company] in [Fiscal Year]?\"\n",
    "2. \"How has net income changed for [Company] over the last year?\"\n",
    "3. \"What are the total assets and liabilities for [Company]?\"\n",
    "4. \"Which company had the highest cash flow from operating activities in [Fiscal Year]?\"\n",
    "5. \"What is the revenue growth rate for [Company] compared to the previous year?\""
   ]
  },
  {
   "cell_type": "markdown",
   "id": "514a3498-06f2-4f6d-9f4a-81775e8878e7",
   "metadata": {},
   "source": [
    "#### **Define predefined queries:**\n",
    "Prepare responses: \n",
    "\n",
    "1. The total revenue for [Company] in [Fiscal Year] was [Total Revenue (M)] million.\n",
    "2. The net income for [Company] changed by [Percentage Change]% from [Previous Year] to [Current Year].\n",
    "3. In [Fiscal Year], [Company] had total assets of [Total Assets (M)] million and total liabilities of [Total Liabilities (M)] million.\n",
    "4. In [Fiscal Year], [Company] had the highest cash flow from operating activities, totaling [Cash Flow (M)] million.\n",
    "5. The revenue growth rate for [Company] from [Previous Year] to [Current Year] was [Growth Rate]%."
   ]
  },
  {
   "cell_type": "markdown",
   "id": "a1569e7a-87cd-45d5-9f86-78873c438ac0",
   "metadata": {},
   "source": [
    "### 3. Basic chatbot development"
   ]
  },
  {
   "cell_type": "markdown",
   "id": "f1645f29-62ab-4e8f-877e-6b97e4e2e096",
   "metadata": {},
   "source": [
    "**Chatbot logic:**\n",
    "\n",
    "- Writing a Python script that uses ***if-else*** statements to match user input (the predefined queries) to the responses you prepared.\n",
    "- For a more interactive experience, we will use a basic Python library such as **input()** for command-line interaction"
   ]
  },
  {
   "cell_type": "markdown",
   "id": "d1c8753f-9478-44ee-8585-356bf481b70a",
   "metadata": {},
   "source": [
    "#### Step 1: Chatbot Logic:"
   ]
  },
  {
   "cell_type": "code",
   "execution_count": 11,
   "id": "f15b232d-3abc-4450-8772-eed27ed49e92",
   "metadata": {},
   "outputs": [],
   "source": [
    "\n",
    "def simple_chatbot(user_query):\n",
    "    \n",
    "    if user_query == \"What is the total revenue for Apple in 2024?\":\n",
    "        return get_total_revenue(\"Apple\", 2024)\n",
    "    elif user_query == \"What is the total revenue for Microsoft in 2024?\":\n",
    "        return get_total_revenue(\"Microsoft\", 2024)\n",
    "    elif user_query == \"What is the total revenue for Tesla in 2024?\":\n",
    "        return get_total_revenue(\"Tesla\", 2024)\n",
    "        \n",
    "    elif user_query == \"How has net income changed for Microsoft from 2023 to 2024?\":\n",
    "        return get_net_income_change(\"Microsoft\")\n",
    "    elif user_query == \"How has net income changed for Apple from 2023 to 2024?\":\n",
    "        return get_net_income_change(\"Apple\")\n",
    "    elif user_query == \"How has net income changed for Tesla from 2023 to 2024?\":\n",
    "        return get_net_income_change(\"Tesla\")\n",
    "        \n",
    "    elif user_query == \"What were the total assets and liabilities for Tesla in 2023?\":\n",
    "        return get_assets_liabilities(\"Tesla\", 2023)\n",
    "    elif user_query == \"What were the total assets and liabilities for Apple in 2023?\":\n",
    "        return get_assets_liabilities(\"Apple\", 2023)\n",
    "    elif user_query == \"What were the total assets and liabilities for Microsoft in 2023?\":\n",
    "        return get_assets_liabilities(\"Microsoft\", 2023)\n",
    "    \n",
    "    elif user_query == \"Which company had the highest cash flow from operating activities in 2024?\":\n",
    "        return get_highest_cash_flow(2024)\n",
    "        \n",
    "    elif user_query == \"What is the revenue growth rate for Apple from 2023 to 2024?\":\n",
    "        return f\"The revenue growth rate for Apple from 2023 to 2024 was {get_revenue_growth_rate('Apple'):.2f}%.\"\n",
    "    else:\n",
    "        return \"Sorry, I can only provide information on predefined queries.\"\n",
    "\n",
    "def get_total_revenue(company, year):\n",
    "    result = df[(df['Company'] == company) & (df['Fiscal Year'] == year)]\n",
    "    if not result.empty:\n",
    "        revenue = result['Total Revenue ($M)'].values[0]\n",
    "        return f\"The total revenue for {company} in {year} was ${revenue} million.\"\n",
    "    else:\n",
    "        return \"No data available for the requested company and year.\"\n",
    "\n",
    "def get_net_income_change(company):\n",
    "    result = df[df['Company'] == company].sort_values(by='Fiscal Year', ascending=False)\n",
    "    if len(result) > 1:\n",
    "        current_year = result.iloc[0]\n",
    "        previous_year = result.iloc[1]\n",
    "        change = ((current_year['Net Income ($M)'] - previous_year['Net Income ($M)']) / previous_year['Net Income ($M)']) * 100\n",
    "        return f\"The net income for {company} changed by {change:.2f}% from {previous_year['Fiscal Year']} to {current_year['Fiscal Year']}.\"\n",
    "    else:\n",
    "        return \"Not enough data to calculate net income change.\"\n",
    "\n",
    "def get_assets_liabilities(company, year):\n",
    "    result = df[(df['Company'] == company) & (df['Fiscal Year'] == year)]\n",
    "    if not result.empty:\n",
    "        assets = result['Total Assets ($M)'].values[0]\n",
    "        liabilities = result['Total Liabilities ($M)'].values[0]\n",
    "        return f\"In {year}, {company} had total assets of ${assets} million and total liabilities of ${liabilities} million.\"\n",
    "    else:\n",
    "        return \"No data available for the requested company and year.\"\n",
    "\n",
    "def get_highest_cash_flow(year):\n",
    "    result = df[df['Fiscal Year'] == year]\n",
    "    if not result.empty:\n",
    "        max_cash_flow = result['Cash Flow from Operating Activities ($M)'].max()\n",
    "        company = result[result['Cash Flow from Operating Activities ($M)'] == max_cash_flow]['Company'].values[0]\n",
    "        return f\"In {year}, {company} had the highest cash flow from operating activities, totaling ${max_cash_flow} million.\"\n",
    "    else:\n",
    "        return \"No data available for the requested year.\"\n",
    "\n",
    "def get_revenue_growth_rate(company):\n",
    "    result = df[df['Company'] == company].sort_values(by='Fiscal Year', ascending=False)\n",
    "    if len(result) > 1:\n",
    "        current_year = result.iloc[0]\n",
    "        previous_year = result.iloc[1]\n",
    "        growth_rate = ((current_year['Total Revenue ($M)'] - previous_year['Total Revenue ($M)']) / previous_year['Total Revenue ($M)']) * 100\n",
    "        return growth_rate\n",
    "    else:\n",
    "        return 0.0\n",
    "        "
   ]
  },
  {
   "cell_type": "markdown",
   "id": "f98b1dc8-7a2c-49f9-8b10-775196d9d7c5",
   "metadata": {},
   "source": [
    "#### Step 2: Command-line interaction"
   ]
  },
  {
   "cell_type": "code",
   "execution_count": 13,
   "id": "dab2d9af-8610-4e29-ad82-d680aa25d13d",
   "metadata": {},
   "outputs": [
    {
     "name": "stdin",
     "output_type": "stream",
     "text": [
      "Enter your query:  What is the total revenue for Apple in 2024?\n"
     ]
    },
    {
     "name": "stdout",
     "output_type": "stream",
     "text": [
      "The total revenue for Apple in 2024 was $391035.0 million.\n"
     ]
    },
    {
     "name": "stdin",
     "output_type": "stream",
     "text": [
      "Enter your query:  What is the total revenue for Tesla in 2024?\n"
     ]
    },
    {
     "name": "stdout",
     "output_type": "stream",
     "text": [
      "The total revenue for Tesla in 2024 was $97690.0 million.\n"
     ]
    },
    {
     "name": "stdin",
     "output_type": "stream",
     "text": [
      "Enter your query:  How has net income changed for Microsoft from 2023 to 2024?\n"
     ]
    },
    {
     "name": "stdout",
     "output_type": "stream",
     "text": [
      "The net income for Microsoft changed by 21.80% from 2023 to 2024.\n"
     ]
    },
    {
     "name": "stdin",
     "output_type": "stream",
     "text": [
      "Enter your query:  What were the total assets and liabilities for Tesla in 2023\n"
     ]
    },
    {
     "name": "stdout",
     "output_type": "stream",
     "text": [
      "Sorry, I can only provide information on predefined queries.\n"
     ]
    },
    {
     "name": "stdin",
     "output_type": "stream",
     "text": [
      "Enter your query:  What were the total assets and liabilities for Tesla in 2023?\n"
     ]
    },
    {
     "name": "stdout",
     "output_type": "stream",
     "text": [
      "In 2023, Tesla had total assets of $106618.0 million and total liabilities of $43009.0 million.\n"
     ]
    },
    {
     "name": "stdin",
     "output_type": "stream",
     "text": [
      "Enter your query:  Which company had the highest cash flow from operating activities in 2024?\n"
     ]
    },
    {
     "name": "stdout",
     "output_type": "stream",
     "text": [
      "In 2024, Microsoft had the highest cash flow from operating activities, totaling $118548.0 million.\n"
     ]
    },
    {
     "name": "stdin",
     "output_type": "stream",
     "text": [
      "Enter your query:  What is the revenue growth rate for Apple from 2023 to 2024?\n"
     ]
    },
    {
     "name": "stdout",
     "output_type": "stream",
     "text": [
      "The revenue growth rate for Apple from 2023 to 2024 was 2.02%.\n"
     ]
    },
    {
     "name": "stdin",
     "output_type": "stream",
     "text": [
      "Enter your query:  exit\n"
     ]
    }
   ],
   "source": [
    "# Test script\n",
    "if __name__ == \"__main__\":\n",
    "    while True:\n",
    "        # Ask the user for input\n",
    "        user_input = input(\"Enter your query: \")\n",
    "        \n",
    "        # Exit if user types 'exit'\n",
    "        if user_input.lower() == 'exit':\n",
    "            break\n",
    "        \n",
    "        # Get the response from the chatbot\n",
    "        response = simple_chatbot(user_input)\n",
    "        \n",
    "        # Print the response\n",
    "        print(response)"
   ]
  },
  {
   "cell_type": "markdown",
   "id": "19fd4819-33a6-41b3-bb6d-133b54009729",
   "metadata": {},
   "source": [
    "### 4. Chatbot Documentation\n",
    "\n",
    "The chatbot is designed to provide financial data for specific companies (Apple, Microsoft, and Tesla) based on user queries. It retrieves and processes information about the companies' revenues, net income, assets, liabilities, cash flows, and growth rates using predefined data stored in a pandas DataFrame. The chatbot responds to user queries related to specific financial metrics for the years 2023 and 2024.\n",
    "\n",
    "- How it Works :\n",
    "  \n",
    "The chatbot functions by processing user input, checking it against predefined queries, and returning relevant information based on data extracted from the DataFrame. Each query is associated with a function that extracts data from the df DataFrame and returns a formatted string containing the requested information.\n",
    "\n",
    "- User Input: The user enters a query related to the financial data of Apple, Microsoft, or Tesla.\n",
    "- Query Processing: The chatbot checks the user query against a set of predefined queries.\n",
    "- Data Extraction: If the query matches a predefined pattern, the chatbot calls the appropriate function to retrieve data from the DataFrame.\n",
    "- Response: The chatbot returns a string with the relevant information (e.g., revenue, net income, growth rate) or an error message if the data is unavailable.\n",
    "\n",
    "- Limitations :\n",
    "  \n",
    "1. Predefined Queries: The chatbot can only respond to a fixed set of queries. It does not support dynamic or user-defined queries.\n",
    "2. Data Availability: If the requested data for a specific company or year is not available in the DataFrame, the chatbot will return an error message (e.g., \"No data available for the requested company and year.\").\n",
    "3. Year Limitations: The data is limited to the years 2023 and 2024. The chatbot cannot provide data outside of this range.\n",
    "4. Simple Query Structure: The chatbot only handles exact matches to predefined queries and does not support more complex or varied forms of input.\n",
    "Usage\n",
    "5. The chatbot can be tested by running the Python script and providing queries directly in the console. The chatbot responds with the relevant financial information based on the predefined dataset."
   ]
  },
  {
   "cell_type": "markdown",
   "id": "911a72fb-fded-4141-853e-4fd1783953ac",
   "metadata": {},
   "source": [
    "#### Conclusion and variation:\n",
    "This example demonstrates the core principles of developing a financial chatbot using rule-based logic, there are numerous ways to enhance and expand this prototype. We might integrate more complex NLP features for natural language understanding, connect to real-time financial databases for dynamic data retrieval, or implement machine learning for more nuanced interaction and response generation.\n",
    "\n",
    "Key takeaway: The principles of chatbot development (rule-based logic, data integration, and clear communication) apply regardless of the complexity of your chatbot. This example provides a foundation, but the possibilities are vast, encouraging to explore and innovate beyond this basic framework."
   ]
  }
 ],
 "metadata": {
  "kernelspec": {
   "display_name": "Python 3 (ipykernel)",
   "language": "python",
   "name": "python3"
  },
  "language_info": {
   "codemirror_mode": {
    "name": "ipython",
    "version": 3
   },
   "file_extension": ".py",
   "mimetype": "text/x-python",
   "name": "python",
   "nbconvert_exporter": "python",
   "pygments_lexer": "ipython3",
   "version": "3.9.0"
  }
 },
 "nbformat": 4,
 "nbformat_minor": 5
}
